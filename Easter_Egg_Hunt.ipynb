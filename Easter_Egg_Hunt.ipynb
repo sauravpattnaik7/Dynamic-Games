{
 "cells": [
  {
   "cell_type": "code",
   "execution_count": 4,
   "metadata": {},
   "outputs": [
    {
     "name": "stdout",
     "output_type": "stream",
     "text": [
      "-------------------------------------\n",
      "|     |     |  E  |     |     |     |\n",
      "-------------------------------------\n",
      "|  E  |     |     |     |     |     |\n",
      "-------------------------------------\n",
      "|     |     |     |     |     |     |\n",
      "-------------------------------------\n",
      "|     |     |     |     |     |     |\n",
      "-------------------------------------\n",
      "|     |  B  |     |     |     |     |\n",
      "-------------------------------------\n",
      "|     |     |     |     |  P  |  M  |\n",
      "-------------------------------------\n"
     ]
    }
   ],
   "source": [
    "from random import randrange\n",
    "\n",
    "class Dungeon_easter_egg:\n",
    "    def __init__(self):\n",
    "        self.life = 1\n",
    "        self.dragon = 1\n",
    "        self.egg = 3\n",
    "        self.basket = 1\n",
    "        \n",
    "class Grid:\n",
    "    def __init__(self, row, column):\n",
    "        self.row = row\n",
    "        self.column = column\n",
    "        self.grid = [[' ' for i  in range(self.column)] for i in range(self.row)]\n",
    "        self.character = []\n",
    "    \n",
    "    def add_character(self, character):\n",
    "        \n",
    "        \n",
    "        #self.character.append(character)\n",
    "        character.location = (randrange(self.row), randrange(self.column))\n",
    "        isFound = False\n",
    "        for c in self.character:\n",
    "            if c.location == character.location:\n",
    "                isFound = True\n",
    "                while isFound:\n",
    "                    break\n",
    "        self.character.append(character)\n",
    "    \n",
    "    def find_symbol(self, row, column):\n",
    "        for character in self.character:\n",
    "            if character.location == (row,column):\n",
    "                return character.symbol\n",
    "        return  self.grid[row][column]\n",
    "    \n",
    "    def print_grid(self):\n",
    "        for row in range(len(self.grid)):\n",
    "            print('-'*(6*len(self.grid[row])+1))\n",
    "            print(\"|\" + \"|\".join([f\"  {self.find_symbol(row,col)}  \" for col in range(len(self.grid[row]))]) + \"|\")\n",
    "           # print('|     '*len(row) + '|')\n",
    "        print('-'*(6*(self.row)+1))\n",
    "    def create_eggs(self, num_eggs):\n",
    "        for i in range(num_eggs):\n",
    "            self.grid[randrange(self.row)][randrange(self.column)] = \"E\"\n",
    "    \n",
    "    def create_basket(self):\n",
    "        self.grid[randrange(self.row)][randrange(self.column)] = \"B\"\n",
    "    \n",
    "\n",
    "        \n",
    "#grid_1 = Grid(6,6)\n",
    "#grid_1.print_grid()\n",
    "        \n",
    "class Character:\n",
    "    def __init__(self):\n",
    "        self.location = (0,0)\n",
    "        self.symbol = 'C'\n",
    "    \n",
    "    #random location for dragon, egg, basket.\n",
    "\n",
    "class Monster(Character):\n",
    "    def __init__(self):\n",
    "        super().__init__()\n",
    "        self.symbol = 'M'\n",
    "    \n",
    "    #can move random\n",
    "\n",
    "class Player(Character):\n",
    "    def __init__(self):\n",
    "        super().__init__()\n",
    "        self.symbol = 'P'\n",
    "        \n",
    "    #one space movement\n",
    "\n",
    "def main():\n",
    "    grid = Grid(6,6)\n",
    "    character = Monster()\n",
    "    player = Player()\n",
    "    grid.add_character(character)\n",
    "    grid.add_character(player)\n",
    "    grid.create_eggs(3)\n",
    "    grid.create_basket()\n",
    "    grid.print_grid()\n",
    "    \n",
    "main()"
   ]
  },
  {
   "cell_type": "code",
   "execution_count": null,
   "metadata": {
    "collapsed": true
   },
   "outputs": [],
   "source": []
  },
  {
   "cell_type": "code",
   "execution_count": null,
   "metadata": {
    "collapsed": true
   },
   "outputs": [],
   "source": []
  }
 ],
 "metadata": {
  "kernelspec": {
   "display_name": "Python 3",
   "language": "python",
   "name": "python3"
  },
  "language_info": {
   "codemirror_mode": {
    "name": "ipython",
    "version": 3
   },
   "file_extension": ".py",
   "mimetype": "text/x-python",
   "name": "python",
   "nbconvert_exporter": "python",
   "pygments_lexer": "ipython3",
   "version": "3.6.3"
  }
 },
 "nbformat": 4,
 "nbformat_minor": 2
}
