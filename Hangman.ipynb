{
 "cells": [
  {
   "cell_type": "code",
   "execution_count": 1,
   "metadata": {
    "collapsed": true
   },
   "outputs": [],
   "source": [
    "import os\n",
    "import random\n",
    "import re\n",
    "from IPython.display import clear_output\n",
    "\n",
    "def welcome_message():\n",
    "    print(\"\"\"Welcome to Hangman!\"\"\")\n",
    "\n",
    "def instructions():\n",
    "        print(\"\"\"Type Q if you want to exit the program\n",
    "Type G if you are ready to attempt your guess!\"\"\")\n",
    "\n",
    "class Hangman:\n",
    "    \n",
    "    def __init__(self):\n",
    "        \n",
    "        option_list = ['mango', 'banana', 'apple', 'grapes', 'pear']\n",
    "        self.choice = random.choice(option_list)\n",
    "        self.word = list(self.choice)\n",
    "        self.length = len(self.choice)\n",
    "\n",
    "        #Allows us to view the progress of guesses\n",
    "        self.initialization_word = ('_' * self.length)\n",
    "        self.initialization = list(self.initialization_word)\n",
    "        self.init_length = len(self.initialization_word)\n",
    "        \n",
    "        self.guesses_rem = 5\n",
    "        self.guesses_total = 0\n",
    "        print('You have ' + str(self.guesses_rem) + ' attempts remaining!')\n",
    "        print('ex word: ' + str(self.choice))\n",
    "        \n",
    "    def guess(self):\n",
    "        \n",
    "        clear_output()\n",
    "        #attempt = input(\"Type a letter and press enter to attempt your guess!\")\n",
    "        if self.guesses_rem > 0:\n",
    "            if self.init_length > 0:\n",
    "                attempt = input(\"Type a letter and press enter to attempt your guess!\")\n",
    "                #Correct attempt\n",
    "                if attempt in self.word:\n",
    "                    clear_output()\n",
    "                    #checks whether letter appears multiple times in word\n",
    "                    indices = [i for i, x in enumerate(self.word) if x == attempt]\n",
    "                    counter = 0\n",
    "                    while counter < len(indices):\n",
    "                        self.initialization[indices[counter]] = attempt\n",
    "                        counter += 1\n",
    "                    print('That was a correct letter!')\n",
    "                    print(str(self.initialization))\n",
    "                    self.init_length -= len(indices)\n",
    "                    self.guesses_total += 1\n",
    "                    \n",
    "                #Incorrect attempt:\n",
    "                else:\n",
    "                    clear_output()\n",
    "                    self.guesses_total += 1\n",
    "                    self.guesses_rem -= 1\n",
    "                    print('That was an incorrect guess! You have ' + str(self.guesses_rem) + ' remaining!')\n",
    "                    print(self.initialization)\n",
    "                    \n",
    "            #If entire word has been guessed:        \n",
    "            else:\n",
    "                clear_output()\n",
    "                print(\"You've correctly guessed the word in \" + str(self.guesses_total) + \" attempts!\")\n",
    "                print(self.initialization)\n",
    "                return False\n",
    "            \n",
    "        #If user runs out of attempts:\n",
    "        else:\n",
    "            clear_output()\n",
    "            print(\"You've no more attemps left! Good try!\")\n",
    "            return False\n",
    "                \n",
    "            "
   ]
  },
  {
   "cell_type": "code",
   "execution_count": 2,
   "metadata": {
    "collapsed": true
   },
   "outputs": [],
   "source": [
    "def main():\n",
    "    \n",
    "    welcome_message()\n",
    "    instructions()\n",
    "    hangman = Hangman()\n",
    "    \n",
    "    while True:\n",
    "        query = input(\"What would you like to do?\")\n",
    "        if query.lower() == 'g':\n",
    "            clear_output()\n",
    "            hangman.guess()\n",
    "            instructions()\n",
    "        \n",
    "        if query.lower() == 'q':\n",
    "            break\n",
    "            \n",
    "    return False\n",
    "        \n",
    "        \n",
    "        "
   ]
  },
  {
   "cell_type": "code",
   "execution_count": 3,
   "metadata": {},
   "outputs": [
    {
     "name": "stdout",
     "output_type": "stream",
     "text": [
      "That was a correct letter!\n",
      "['a', 'p', 'p', 'l', 'e']\n",
      "Type Q if you want to exit the program\n",
      "Type G if you are ready to attempt your guess!\n",
      "What would you like to do?q\n"
     ]
    },
    {
     "data": {
      "text/plain": [
       "False"
      ]
     },
     "execution_count": 3,
     "metadata": {},
     "output_type": "execute_result"
    }
   ],
   "source": [
    "main()"
   ]
  },
  {
   "cell_type": "code",
   "execution_count": null,
   "metadata": {
    "collapsed": true
   },
   "outputs": [],
   "source": []
  }
 ],
 "metadata": {
  "kernelspec": {
   "display_name": "Python 3",
   "language": "python",
   "name": "python3"
  },
  "language_info": {
   "codemirror_mode": {
    "name": "ipython",
    "version": 3
   },
   "file_extension": ".py",
   "mimetype": "text/x-python",
   "name": "python",
   "nbconvert_exporter": "python",
   "pygments_lexer": "ipython3",
   "version": "3.6.3"
  }
 },
 "nbformat": 4,
 "nbformat_minor": 2
}
